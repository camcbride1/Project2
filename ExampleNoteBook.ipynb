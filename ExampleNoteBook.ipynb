{
 "cells": [
  {
   "cell_type": "code",
   "execution_count": 1,
   "metadata": {},
   "outputs": [],
   "source": [
    "import numpy as np\n",
    "import pandas as pd\n",
    "\n",
    "# Small part of Feed Grains: Yearbook Tables\n",
    "# Data used from https://www.ers.usda.gov/data-products/feed-grains-database/feed-grains-yearbook-tables/\n",
    "# Price per bushel of Yellow corn in 1984, 1985\n",
    "# Array will be used when applicable for examples.\n",
    "df = pd.read_csv('FeedGrains.csv')\n",
    "cornArray = df['Amount'].to_numpy().astype(np.float64).reshape(2,13) #Reshape\n"
   ]
  },
  {
   "cell_type": "markdown",
   "metadata": {},
   "source": [
    "# Understanding Data Types in Python\n",
    "\n",
    "Topics covered Include:\n",
    "1. Creating an array from a python list\n",
    "2. Creating an array from scratch"
   ]
  },
  {
   "cell_type": "code",
   "execution_count": 2,
   "metadata": {},
   "outputs": [
    {
     "name": "stdout",
     "output_type": "stream",
     "text": [
      "[1 2 3 4 5]\n"
     ]
    }
   ],
   "source": [
    "# Creating an Array From a Python List\n",
    "lyst = [1, 2, 3, 4, 5]\n",
    "arr = np.array(lyst, dtype = np.int32)\n",
    "print(arr)"
   ]
  },
  {
   "cell_type": "code",
   "execution_count": 3,
   "metadata": {},
   "outputs": [
    {
     "name": "stdout",
     "output_type": "stream",
     "text": [
      "[0. 0. 0. 0. 0.]\n",
      "[[23 36 29]\n",
      " [21 21 24]]\n"
     ]
    }
   ],
   "source": [
    "# Creating an Array From Scratch\n",
    "arr = np.zeros(5)                       # Using zeros\n",
    "print(arr)\n",
    "\n",
    "arr = np.random.randint(20, 40, (2, 3)) # Using random\n",
    "print(arr)"
   ]
  },
  {
   "cell_type": "markdown",
   "metadata": {},
   "source": [
    "# The Basics of NumPy Arrays\n",
    "\n",
    "Topics covered Include:\n",
    "1. Attributes of Arrays\n",
    "2. Array Indexing & Slicing\n",
    "3. Concatenation"
   ]
  },
  {
   "cell_type": "code",
   "execution_count": 4,
   "metadata": {},
   "outputs": [
    {
     "name": "stdout",
     "output_type": "stream",
     "text": [
      "Corn Array Number of Dimensions:  2\n",
      "Corn Array Shape:                 (2, 13)\n",
      "Corn Array Size:                  26\n",
      "Corn Array Data Type:             float64\n",
      "Corn Array Item Size:             8\n",
      "Corn Array Array Size in Bytes:   208\n"
     ]
    }
   ],
   "source": [
    "# Attributes of Arrays\n",
    "\n",
    "print(\"Corn Array Number of Dimensions: \", cornArray.ndim)      # 2\n",
    "print(\"Corn Array Shape:                \", cornArray.shape)     # (2, 13)\n",
    "print(\"Corn Array Size:                 \", cornArray.size)      # 26\n",
    "print(\"Corn Array Data Type:            \", cornArray.dtype)     # Float 64\n",
    "print(\"Corn Array Item Size:            \", cornArray.itemsize)  # 8\n",
    "print(\"Corn Array Array Size in Bytes:  \", cornArray.nbytes)    # 208"
   ]
  },
  {
   "cell_type": "code",
   "execution_count": 5,
   "metadata": {},
   "outputs": [
    {
     "name": "stdout",
     "output_type": "stream",
     "text": [
      "Corn Price Average:                       3.08833333333333\n",
      "All Corn Prices for Year 1984:            [3.54 3.63 3.84 3.91 3.73 3.94 3.76 3.58 3.34 3.04 2.92 3.  ]\n",
      "March - June Corn Prices for Year 1986:   [3.13 3.2  3.1  3.25]\n"
     ]
    }
   ],
   "source": [
    "# Array Indexing & Slicing\n",
    "\n",
    "# Sep-Aug Avg.\n",
    "print(\"Corn Price Average:                      \", cornArray[0,12])     # Single Value\n",
    "print(\"All Corn Prices for Year 1984:           \", cornArray[0,:12])    # All Corn Prices for Year 1984\n",
    "print(\"March - June Corn Prices for Year 1986:  \", cornArray[1,2:6])    # March - June Corn Prices for Year 1986"
   ]
  },
  {
   "cell_type": "code",
   "execution_count": 6,
   "metadata": {},
   "outputs": [
    {
     "name": "stdout",
     "output_type": "stream",
     "text": [
      "[[1 2 3]\n",
      " [3 2 1]\n",
      " [3 2 1]\n",
      " [1 2 3]]\n"
     ]
    }
   ],
   "source": [
    "#Concatenation\n",
    "\n",
    "x = np.array([1, 2, 3, 3, 2, 1]).reshape(2,3)\n",
    "y = np.array([3, 2, 1, 1, 2, 3]).reshape(2,3)\n",
    "print(np.concatenate([x, y]))"
   ]
  },
  {
   "cell_type": "markdown",
   "metadata": {},
   "source": [
    "# Universal Functions\n",
    "\n",
    "Topics covered Include:\n",
    "1. Array Arithmetic\n",
    "2. Equivalent Functions\n",
    "3. Exponents and Logarithms"
   ]
  },
  {
   "cell_type": "code",
   "execution_count": 7,
   "metadata": {},
   "outputs": [
    {
     "name": "stdout",
     "output_type": "stream",
     "text": [
      "[3.54       3.63       3.84       3.91       3.73       3.94\n",
      " 3.76       3.58       3.34       3.04       2.92       3.\n",
      " 3.08833333]\n",
      "Array + 4: [7.54       7.63       7.84       7.91       7.73       7.94\n",
      " 7.76       7.58       7.34       7.04       6.92       7.\n",
      " 7.08833333]\n",
      "Array - 4: [-0.46       -0.37       -0.16       -0.09       -0.27       -0.06\n",
      " -0.24       -0.42       -0.66       -0.96       -1.08       -1.\n",
      " -0.91166667]\n",
      "Array * 4: [14.16       14.52       15.36       15.64       14.92       15.76\n",
      " 15.04       14.32       13.36       12.16       11.68       12.\n",
      " 12.35333333]\n",
      "Array / 4: [0.885      0.9075     0.96       0.9775     0.9325     0.985\n",
      " 0.94       0.895      0.835      0.76       0.73       0.75\n",
      " 0.77208333]\n",
      "Array // 2: [1. 1. 1. 1. 1. 1. 1. 1. 1. 1. 1. 1. 1.]\n",
      "-Array: [-3.54       -3.63       -3.84       -3.91       -3.73       -3.94\n",
      " -3.76       -3.58       -3.34       -3.04       -2.92       -3.\n",
      " -3.08833333]\n",
      "Array ^ 2: [12.5316     13.1769     14.7456     15.2881     13.9129     15.5236\n",
      " 14.1376     12.8164     11.1556      9.2416      8.5264      9.\n",
      "  9.53780278]\n",
      "Array % 2: [1.54       1.63       1.84       1.91       1.73       1.94\n",
      " 1.76       1.58       1.34       1.04       0.92       1.\n",
      " 1.08833333]\n"
     ]
    }
   ],
   "source": [
    "# Array Arithmetic\n",
    "\n",
    "print(cornArray[0,::]) # Original\n",
    "print('Array + 4:', cornArray[0,::] + 4)\n",
    "print('Array - 4:', cornArray[0,::] - 4)\n",
    "print('Array * 4:', cornArray[0,::] * 4)\n",
    "print('Array / 4:', cornArray[0,::] / 4)\n",
    "print('Array // 2:', cornArray[0,::] // 2)\n",
    "print('-Array:', -cornArray[0,::])\n",
    "print('Array ^ 2:', cornArray[0,::] ** 2)\n",
    "print('Array % 2:', cornArray[0,::] % 2)"
   ]
  },
  {
   "cell_type": "code",
   "execution_count": 8,
   "metadata": {},
   "outputs": [
    {
     "name": "stdout",
     "output_type": "stream",
     "text": [
      "Array + 4: [7.54       7.63       7.84       7.91       7.73       7.94\n",
      " 7.76       7.58       7.34       7.04       6.92       7.\n",
      " 7.08833333]\n",
      "Array + 4: [7.54       7.63       7.84       7.91       7.73       7.94\n",
      " 7.76       7.58       7.34       7.04       6.92       7.\n",
      " 7.08833333]\n"
     ]
    }
   ],
   "source": [
    "# Equivalent Functions\n",
    "\n",
    "print('Array + 4:', cornArray[0,::] + 4)\n",
    "print('Array + 4:', np.add(cornArray[0,::], 4))"
   ]
  },
  {
   "cell_type": "code",
   "execution_count": 9,
   "metadata": {},
   "outputs": [
    {
     "name": "stdout",
     "output_type": "stream",
     "text": [
      "Array: [3.54       3.63       3.84       3.91       3.73       3.94\n",
      " 3.76       3.58       3.34       3.04       2.92       3.\n",
      " 3.08833333]\n",
      "e ^ Array: [34.46691919 37.71281662 46.52547444 49.89895197 41.67910816 51.4186013\n",
      " 42.94842598 35.87354085 28.21912671 20.90524324 18.54128746 20.08553692\n",
      " 21.94048002]\n",
      "log2 of Array: [1.82374936 1.85996955 1.94110631 1.96716861 1.89917563 1.97819563\n",
      " 1.91073266 1.83995959 1.7398481  1.60407132 1.54596837 1.5849625\n",
      " 1.62682848]\n"
     ]
    }
   ],
   "source": [
    "# Exponents and Logarithms\n",
    "\n",
    "print('Array:', cornArray[0,::])\n",
    "print('e ^ Array:', np.exp(cornArray[0,::]))\n",
    "print('log2 of Array:', np.log2(cornArray[0,::]))"
   ]
  },
  {
   "cell_type": "markdown",
   "metadata": {},
   "source": [
    "# Aggregations\n",
    "\n",
    "1. Summations\n",
    "2. Min and Max\n",
    "3. Other"
   ]
  },
  {
   "cell_type": "code",
   "execution_count": 10,
   "metadata": {},
   "outputs": [
    {
     "name": "stdout",
     "output_type": "stream",
     "text": [
      "[[3.54       3.63       3.84       3.91       3.73       3.94\n",
      "  3.76       3.58       3.34       3.04       2.92       3.\n",
      "  3.08833333]\n",
      " [3.1        3.08       3.13       3.2        3.1        3.25\n",
      "  3.1        2.8        2.5        2.45       2.7        2.85\n",
      "  2.65      ]]\n",
      "[6.64       6.71       6.97       7.11       6.83       7.19\n",
      " 6.86       6.38       5.84       5.49       5.62       5.85\n",
      " 5.73833333]\n",
      "83.22833333333332\n"
     ]
    }
   ],
   "source": [
    "# Summations\n",
    "\n",
    "print(cornArray)\n",
    "print(sum(cornArray))       # Built in Python sum\n",
    "print(np.sum(cornArray))    # numpy's Sum"
   ]
  },
  {
   "cell_type": "code",
   "execution_count": 11,
   "metadata": {},
   "outputs": [
    {
     "name": "stdout",
     "output_type": "stream",
     "text": [
      "Array: [3.54 3.63 3.84 3.91 3.73 3.94]\n",
      "Python Min 3.54\n",
      "numpy Min 3.54\n",
      "Python Max 3.94\n",
      "numpy Max 3.94\n"
     ]
    }
   ],
   "source": [
    "# Min and Max\n",
    "\n",
    "print('Array:', cornArray[0,:6:])\n",
    "\n",
    "print('Python Min', min(cornArray[0,:6:]))\n",
    "print('numpy Min', np.min(cornArray[0,:6:]))\n",
    "\n",
    "print('Python Max', max(cornArray[0,:6:]))\n",
    "print('numpy Max', np.max(cornArray[0,:6:]))"
   ]
  },
  {
   "cell_type": "code",
   "execution_count": 12,
   "metadata": {},
   "outputs": [
    {
     "name": "stdout",
     "output_type": "stream",
     "text": [
      "Array: [[3.54       3.63       3.84       3.91       3.73       3.94\n",
      "  3.76       3.58       3.34       3.04       2.92       3.\n",
      "  3.08833333]\n",
      " [3.1        3.08       3.13       3.2        3.1        3.25\n",
      "  3.1        2.8        2.5        2.45       2.7        2.85\n",
      "  2.65      ]]\n",
      "Array: 0.4213548919112499\n",
      "Array: 3.1\n"
     ]
    }
   ],
   "source": [
    "# Other\n",
    "\n",
    "print('Array:', cornArray)\n",
    "print('Array:', np.std(cornArray))      # Standard Deviation\n",
    "print('Array:', np.median(cornArray))   # Median"
   ]
  },
  {
   "cell_type": "markdown",
   "metadata": {},
   "source": [
    "# Broadcasting\n",
    "1. Example 1 - Subtraction Broadcasting\n",
    "2. Example 2 - Expected Failure\n",
    "3. Example 3 - Centering of cornArray"
   ]
  },
  {
   "cell_type": "code",
   "execution_count": 13,
   "metadata": {},
   "outputs": [
    {
     "name": "stdout",
     "output_type": "stream",
     "text": [
      "Array 1:  [0 1 2]\n",
      "Array 2: \n",
      " [[9]\n",
      " [8]\n",
      " [7]]\n",
      "Subtraction Broadcasting: \n",
      " [[-9 -8 -7]\n",
      " [-8 -7 -6]\n",
      " [-7 -6 -5]]\n"
     ]
    }
   ],
   "source": [
    "# Example 1 - Subtraction Broadcasting\n",
    "\n",
    "arr1 = np.array([0, 1, 2])\n",
    "arr2 = np.array([9, 8, 7]).reshape(3,1)\n",
    "print('Array 1: ', arr1)\n",
    "print('Array 2: \\n',arr2)\n",
    "\n",
    "print(\"Subtraction Broadcasting: \\n\", arr1 - arr2)"
   ]
  },
  {
   "cell_type": "code",
   "execution_count": 14,
   "metadata": {},
   "outputs": [
    {
     "name": "stdout",
     "output_type": "stream",
     "text": [
      "This does not work because the two arrays are not compatible.\n"
     ]
    }
   ],
   "source": [
    "# Example 2 - Expected Failure\n",
    "\n",
    "arr1 = np.array([0, 1, 2])\n",
    "arr2 = np.array([9, 8, 7, 6]).reshape(2,2)\n",
    "\n",
    "try:\n",
    "    print(\"Addition Broadcasting: \\n\", arr1 + arr2)\n",
    "except:\n",
    "    print(\"This does not work because the two arrays are not compatible.\")"
   ]
  },
  {
   "cell_type": "code",
   "execution_count": 15,
   "metadata": {},
   "outputs": [
    {
     "name": "stdout",
     "output_type": "stream",
     "text": [
      "[[3.54       3.63       3.84       3.91       3.73       3.94\n",
      "  3.76       3.58       3.34       3.04       2.92       3.\n",
      "  3.08833333]\n",
      " [3.1        3.08       3.13       3.2        3.1        3.25\n",
      "  3.1        2.8        2.5        2.45       2.7        2.85\n",
      "  2.65      ]]\n",
      "Array Mean of x axis:\n",
      " [3.32       3.355      3.485      3.555      3.415      3.595\n",
      " 3.43       3.19       2.92       2.745      2.81       2.925\n",
      " 2.86916667]\n",
      "cornArray centered:\n",
      " [-2.22044605e-16  0.00000000e+00  0.00000000e+00  0.00000000e+00\n",
      "  0.00000000e+00  2.22044605e-16  2.22044605e-16  0.00000000e+00\n",
      "  0.00000000e+00  0.00000000e+00  0.00000000e+00  2.22044605e-16\n",
      "  0.00000000e+00]\n"
     ]
    }
   ],
   "source": [
    "# Example 3 - Centering of cornArray\n",
    "\n",
    "print(cornArray)\n",
    "print(\"Array Mean of x axis:\\n\", cornArray.mean(0))\n",
    "print(\"cornArray centered:\\n\", (cornArray - cornArray.mean(0)).mean(0))\n"
   ]
  },
  {
   "cell_type": "markdown",
   "metadata": {},
   "source": [
    "# Comparisons, Masks, and Boolean Logic\n",
    "\n",
    "1. Comparison Operators\n",
    "2. Boolean Arrays\n",
    "3. Boolean Arrays as Masks"
   ]
  },
  {
   "cell_type": "code",
   "execution_count": 16,
   "metadata": {},
   "outputs": [
    {
     "name": "stdout",
     "output_type": "stream",
     "text": [
      "[3.54 3.63 3.84 3.91 3.73 3.94]\n",
      " Are values greater than 3.75:\n",
      " [False False  True  True False  True]\n",
      " Are values less than 3.8:\n",
      " [ True  True False False  True False]\n"
     ]
    }
   ],
   "source": [
    "# Comparison Operators\n",
    "\n",
    "print(cornArray[0, :6])\n",
    "print(' Are values greater than 3.75:\\n', cornArray[0, :6] > 3.75)\n",
    "print(' Are values less than 3.8:\\n', cornArray[0, :6] < 3.8)\n"
   ]
  },
  {
   "cell_type": "code",
   "execution_count": 17,
   "metadata": {},
   "outputs": [
    {
     "name": "stdout",
     "output_type": "stream",
     "text": [
      "How many values greater than 3.75:\n",
      " 3\n"
     ]
    }
   ],
   "source": [
    "# Boolean Arrays\n",
    "\n",
    "cornBool = cornArray[0, :6] > 3.75  # Count True\n",
    "print('How many values greater than 3.75:\\n', np.count_nonzero(cornBool))\n",
    "\n"
   ]
  },
  {
   "cell_type": "code",
   "execution_count": 18,
   "metadata": {},
   "outputs": [
    {
     "name": "stdout",
     "output_type": "stream",
     "text": [
      "All values that satisfy the expression: [3.84 3.91 3.94]\n"
     ]
    }
   ],
   "source": [
    "# Boolean Arrays as Masks\n",
    "\n",
    "smlCornArray = cornArray[0, :6]             # Create Smaller Array\n",
    "print(\"All values that satisfy the expression:\", \n",
    "      smlCornArray[smlCornArray > 3.75])    # Get values that match comparison operation\n",
    "\n",
    "\n"
   ]
  },
  {
   "cell_type": "markdown",
   "metadata": {},
   "source": [
    "# Fancy Indexing\n",
    "1. Example 1 - Basics\n",
    "2. Example 2 - Modifying Values"
   ]
  },
  {
   "cell_type": "code",
   "execution_count": 19,
   "metadata": {},
   "outputs": [
    {
     "name": "stdout",
     "output_type": "stream",
     "text": [
      "Array:  [3.54 3.63 3.84 3.91 3.73 3.94]\n",
      "Indices that will be accessed:  [1, 3, 5]\n",
      "Array:  [3.63 3.91 3.94]\n",
      "\n",
      "Array:  [3.54 3.63 3.84 3.91 3.73 3.94]\n",
      "Indices that will be accessed:\n",
      "  [[1 2]\n",
      " [4 5]]\n",
      "Array: \n",
      " [[3.63 3.84]\n",
      " [3.73 3.94]]\n"
     ]
    }
   ],
   "source": [
    "# Example 1 - Basics\n",
    "\n",
    "# One Dimension Access Array\n",
    "smlCornArray = cornArray[0, :6]     # Create Smaller Array\n",
    "accessArray = [1, 3, 5]\n",
    "\n",
    "print(\"Array: \", smlCornArray)\n",
    "print(\"Indices that will be accessed: \", accessArray)\n",
    "print(\"Array: \", smlCornArray[accessArray])\n",
    "print()\n",
    "\n",
    "# Two Dimension Access Array\n",
    "accessArray2 = np.array([[1, 2],\n",
    "                         [4, 5]])\n",
    "print(\"Array: \", smlCornArray)\n",
    "print(\"Indices that will be accessed:\\n \", accessArray2)\n",
    "print(\"Array: \\n\", smlCornArray[accessArray2])\n"
   ]
  },
  {
   "cell_type": "code",
   "execution_count": 20,
   "metadata": {},
   "outputs": [
    {
     "name": "stdout",
     "output_type": "stream",
     "text": [
      "Array:  [3.54 3.63 3.84 3.91 3.73 3.94]\n",
      "Indices that will be accessed:  [1, 3, 5]\n",
      "Changed Array:  [  3.54 -99.     3.84 -99.     3.73 -99.  ]\n",
      "\n"
     ]
    }
   ],
   "source": [
    "# Example 2 - Modifying Values\n",
    "\n",
    "accessArray = [1, 3, 5]\n",
    "temp = np.copy(smlCornArray)\n",
    "\n",
    "print(\"Array: \", temp)\n",
    "print(\"Indices that will be accessed: \", accessArray)\n",
    "temp[accessArray] = -99\n",
    "print(\"Changed Array: \", temp)\n",
    "print()\n"
   ]
  },
  {
   "cell_type": "markdown",
   "metadata": {},
   "source": [
    "# Sorting Arrays\n",
    "1. Numpy Sorting"
   ]
  },
  {
   "cell_type": "code",
   "execution_count": 21,
   "metadata": {},
   "outputs": [
    {
     "name": "stdout",
     "output_type": "stream",
     "text": [
      "Array:                [3.54 3.63 3.84 3.91 3.73 3.94 3.76 3.58 3.34 3.04 2.92 3.  ]\n",
      "Sorted with np.sort   [2.92 3.   3.04 3.34 3.54 3.58 3.63 3.73 3.76 3.84 3.91 3.94]\n"
     ]
    }
   ],
   "source": [
    "# Numpy Sorting\n",
    "\n",
    "# np.sort\n",
    "\n",
    "tempCornArray = np.copy(cornArray[0, :12])   # Create Smaller Array\n",
    "\n",
    "print('Array:               ', tempCornArray)\n",
    "print('Sorted with np.sort  ', np.sort(tempCornArray))"
   ]
  },
  {
   "cell_type": "code",
   "execution_count": 22,
   "metadata": {},
   "outputs": [
    {
     "name": "stdout",
     "output_type": "stream",
     "text": [
      "Array:                    [3.54 3.63 3.84 3.91 3.73 3.94 3.76 3.58 3.34 3.04 2.92 3.  ]\n",
      "Sorted with np.argsort    [10 11  9  8  0  7  1  4  6  2  3  5]\n"
     ]
    }
   ],
   "source": [
    "# np.argsort\n",
    "\n",
    "tempCornArray = np.copy(cornArray[0, :12])   # Create Smaller Array\n",
    "print('Array:                   ', tempCornArray)\n",
    "print('Sorted with np.argsort   ', np.argsort(tempCornArray))"
   ]
  },
  {
   "cell_type": "code",
   "execution_count": 23,
   "metadata": {},
   "outputs": [
    {
     "name": "stdout",
     "output_type": "stream",
     "text": [
      "sorted rows:  [[2.92       3.         3.04       3.08833333 3.34       3.54\n",
      "  3.58       3.63       3.73       3.76       3.84       3.91\n",
      "  3.94      ]\n",
      " [2.45       2.5        2.65       2.7        2.8        2.85\n",
      "  3.08       3.1        3.1        3.1        3.13       3.2\n",
      "  3.25      ]]\n"
     ]
    }
   ],
   "source": [
    "# Sort rows\n",
    "\n",
    "tempCornArray = np.copy(cornArray)\n",
    "print(\"sorted rows: \", np.sort(tempCornArray, axis = 1))\n"
   ]
  },
  {
   "cell_type": "markdown",
   "metadata": {},
   "source": [
    "# Structured Arrays\n",
    "1. Structured Arrays"
   ]
  },
  {
   "cell_type": "code",
   "execution_count": 24,
   "metadata": {},
   "outputs": [
    {
     "name": "stdout",
     "output_type": "stream",
     "text": [
      "This is a Structured Array: \n",
      " [('Jan', 3.54) ('Feb', 3.63) ('Mar', 3.84) ('Apr', 3.91) ('May', 3.73)\n",
      " ('Jun', 3.94) ('Jul', 3.76) ('Aug', 3.58) ('Sep', 3.34) ('Oct', 3.04)\n",
      " ('Nov', 2.92) ('Dec', 3.  )]\n",
      "This is an Accessing by Index Example:\n",
      " ('Jan', 3.54)\n",
      "This is an Accessing by Field Example:\n",
      " [3.54 3.63 3.84 3.91 3.73 3.94 3.76 3.58 3.34 3.04 2.92 3.  ]\n",
      "This is an Accessing by Conditional Example:\n",
      " ['Jan' 'Feb' 'Mar' 'Apr' 'May' 'Jun' 'Jul' 'Aug']\n"
     ]
    }
   ],
   "source": [
    "structCornArray = np.zeros(12, dtype={'names':('Month', 'PPB'),\n",
    "                          'formats':('U20', 'f8')})\n",
    "\n",
    "structCornArray[0]['Month'] = 'Jan'\n",
    "structCornArray[1]['Month'] = 'Feb'\n",
    "structCornArray[2]['Month'] = 'Mar'\n",
    "structCornArray[3]['Month'] = 'Apr'\n",
    "structCornArray[4]['Month'] = 'May'\n",
    "structCornArray[5]['Month'] = 'Jun'\n",
    "structCornArray[6]['Month'] = 'Jul'\n",
    "structCornArray[7]['Month'] = 'Aug'\n",
    "structCornArray[8]['Month'] = 'Sep'\n",
    "structCornArray[9]['Month'] = 'Oct'\n",
    "structCornArray[10]['Month'] = 'Nov'\n",
    "structCornArray[11]['Month'] = 'Dec'\n",
    "\n",
    "structCornArray[0]['PPB'] = cornArray[0,0]\n",
    "structCornArray[1]['PPB'] = cornArray[0,1]\n",
    "structCornArray[2]['PPB'] = cornArray[0,2]\n",
    "structCornArray[3]['PPB'] = cornArray[0,3]\n",
    "structCornArray[4]['PPB'] = cornArray[0,4]\n",
    "structCornArray[5]['PPB'] = cornArray[0,5]\n",
    "structCornArray[6]['PPB'] = cornArray[0,6]\n",
    "structCornArray[7]['PPB'] = cornArray[0,7]\n",
    "structCornArray[8]['PPB'] = cornArray[0,8]\n",
    "structCornArray[9]['PPB'] = cornArray[0,9]\n",
    "structCornArray[10]['PPB'] = cornArray[0,10]\n",
    "structCornArray[11]['PPB'] = cornArray[0,11]\n",
    "\n",
    "print(\"This is a Structured Array: \\n\", structCornArray)\n",
    "print(\"This is an Accessing by Index Example:\\n\", structCornArray[0])\n",
    "print(\"This is an Accessing by Field Example:\\n\", structCornArray['PPB'])\n",
    "print(\"This is an Accessing by Conditional Example:\\n\", structCornArray[structCornArray['PPB'] > 3.5]['Month'])"
   ]
  }
 ],
 "metadata": {
  "kernelspec": {
   "display_name": "Python 3",
   "language": "python",
   "name": "python3"
  },
  "language_info": {
   "codemirror_mode": {
    "name": "ipython",
    "version": 3
   },
   "file_extension": ".py",
   "mimetype": "text/x-python",
   "name": "python",
   "nbconvert_exporter": "python",
   "pygments_lexer": "ipython3",
   "version": "3.12.1"
  }
 },
 "nbformat": 4,
 "nbformat_minor": 2
}
