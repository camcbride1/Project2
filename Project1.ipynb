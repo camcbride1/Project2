{
 "cells": [
  {
   "cell_type": "markdown",
   "metadata": {},
   "source": [
    "# Project\n",
    "\n",
    "This project shows the correlation between my personal power bill for the last year and the month is was billed. \n",
    "\n",
    "Most topics will be covered in this project, see examples for any topics not covered.\n",
    "\n",
    "Topics covered more than once will only have a comment next to the first instance."
   ]
  },
  {
   "cell_type": "code",
   "execution_count": 76,
   "metadata": {},
   "outputs": [
    {
     "name": "stdout",
     "output_type": "stream",
     "text": [
      "[ 69.21  78.43  93.58  98.66  97.38  82.08  73.37 106.43 103.43  91.83\n",
      "  80.96  86.71]\n",
      "[284 328 402 514 566 501 396 338 606 551 437 406]\n",
      "[[ 69.21  78.43  93.58  98.66  97.38  82.08  73.37 106.43 103.43  91.83\n",
      "   80.96  86.71]\n",
      " [284.   328.   402.   514.   566.   501.   396.   338.   606.   551.\n",
      "  437.   406.  ]]\n",
      "['April     ' 'May       ' 'June      ' 'July      ' 'August    '\n",
      " 'September ' 'October   ' 'November  ' 'December  ' 'January   '\n",
      " 'Febuary   ' 'March     ']\n",
      "\n",
      "All Months:\n",
      "April      | Usage(kWh): 284 | Bill($): 69.21\n",
      "May        | Usage(kWh): 328 | Bill($): 78.43\n",
      "June       | Usage(kWh): 402 | Bill($): 93.58\n",
      "July       | Usage(kWh): 514 | Bill($): 98.66\n",
      "August     | Usage(kWh): 566 | Bill($): 97.38\n",
      "September  | Usage(kWh): 501 | Bill($): 82.08\n",
      "October    | Usage(kWh): 396 | Bill($): 73.37\n",
      "November   | Usage(kWh): 338 | Bill($): 106.43\n",
      "December   | Usage(kWh): 606 | Bill($): 103.43\n",
      "January    | Usage(kWh): 551 | Bill($): 91.83\n",
      "Febuary    | Usage(kWh): 437 | Bill($): 80.96\n",
      "March      | Usage(kWh): 406 | Bill($): 86.71\n",
      "\n"
     ]
    }
   ],
   "source": [
    "# Setup\n",
    "\n",
    "# Import numpy\n",
    "import numpy as np \n",
    "\n",
    "# Power bills from 04/23 to 03/24\n",
    "powerBillArr = np.array([69.21, 78.43, 93.58, 98.66, 97.38, 82.08, 73.37, 106.43, 103.43, 91.83, 80.96, 86.71])\n",
    "\n",
    "# Power usage in kWh from 04/23 to 03/24 (Corresponds with the bills)\n",
    "powerUsageArr = np.array([284, 328, 402, 514, 566, 501, 396, 338, 606, 551, 437, 406])\n",
    "\n",
    "# Two Dimensional Array\n",
    "combinedArr = np.concatenate((powerBillArr, powerUsageArr)).reshape(2, 12)  # Concatenation\n",
    "\n",
    "# Month list for display\n",
    "monthArr = np.array(['April     ', 'May       ', 'June      ', 'July      ', 'August    ', 'September ',\n",
    "                      'October   ', 'November  ', 'December  ', 'January   ', 'Febuary   ', 'March     '])\n",
    "\n",
    "# Display raw arrays and list\n",
    "print(powerBillArr)\n",
    "print(powerUsageArr)\n",
    "print(combinedArr)\n",
    "print(monthArr)\n",
    "print()\n",
    "\n",
    "# Display arrays and list correctly\n",
    "output = 'All Months:\\n'\n",
    "for index in range(12):\n",
    "    output += f'{monthArr[index]} | Usage(kWh): {powerUsageArr[index]} | Bill($): {powerBillArr[index]}\\n' # Array Indexing\n",
    "print(output)"
   ]
  },
  {
   "cell_type": "code",
   "execution_count": 77,
   "metadata": {},
   "outputs": [
    {
     "name": "stdout",
     "output_type": "stream",
     "text": [
      "2023's Bills:  [ 69.21  78.43  93.58  98.66  97.38  82.08  73.37 106.43 103.43]\n",
      "2024's Bills:  [91.83 80.96 86.71]\n"
     ]
    }
   ],
   "source": [
    "# Display each years' bills\n",
    "\n",
    "y2023BillArr = np.copy(powerBillArr[0:9])   # Slicing\n",
    "y2024BillArr = np.copy(powerBillArr[9:])\n",
    "\n",
    "print(\"2023's Bills: \", y2023BillArr)\n",
    "print(\"2024's Bills: \", y2024BillArr)"
   ]
  },
  {
   "cell_type": "code",
   "execution_count": 78,
   "metadata": {},
   "outputs": [
    {
     "name": "stdout",
     "output_type": "stream",
     "text": [
      "All Months:\n",
      "April      | Usage(kWh) * 1.5: 426.0 | Bill($) * 1.5: 103.82\n",
      "May        | Usage(kWh) * 1.5: 492.0 | Bill($) * 1.5: 117.65\n",
      "June       | Usage(kWh) * 1.5: 603.0 | Bill($) * 1.5: 140.37\n",
      "July       | Usage(kWh) * 1.5: 771.0 | Bill($) * 1.5: 147.99\n",
      "August     | Usage(kWh) * 1.5: 849.0 | Bill($) * 1.5: 146.07\n",
      "September  | Usage(kWh) * 1.5: 751.5 | Bill($) * 1.5: 123.12\n",
      "October    | Usage(kWh) * 1.5: 594.0 | Bill($) * 1.5: 110.06\n",
      "November   | Usage(kWh) * 1.5: 507.0 | Bill($) * 1.5: 159.65\n",
      "December   | Usage(kWh) * 1.5: 909.0 | Bill($) * 1.5: 155.15\n",
      "January    | Usage(kWh) * 1.5: 826.5 | Bill($) * 1.5: 137.74\n",
      "Febuary    | Usage(kWh) * 1.5: 655.5 | Bill($) * 1.5: 121.44\n",
      "March      | Usage(kWh) * 1.5: 609.0 | Bill($) * 1.5: 130.06\n",
      "\n"
     ]
    }
   ],
   "source": [
    "# What would the bill be if I used 50% more power?\n",
    "temp1 = np.copy(powerUsageArr) * 1.5    # Array Arithmetic\n",
    "temp2 = np.copy(powerBillArr)   * 1.5\n",
    "\n",
    "output = 'All Months:\\n'\n",
    "for index in range(12):\n",
    "    output += f'{monthArr[index]} | Usage(kWh) * 1.5: {temp1[index]} | Bill($) * 1.5: {round(temp2[index], 2)}\\n'\n",
    "print(output)"
   ]
  },
  {
   "cell_type": "code",
   "execution_count": 79,
   "metadata": {},
   "outputs": [
    {
     "name": "stdout",
     "output_type": "stream",
     "text": [
      "Max bill:  106.43\n",
      "Bill total:  1062.07\n",
      "Bill deviation:  11.42753506399735\n"
     ]
    }
   ],
   "source": [
    "# Bill max, summation, and standard deviation \n",
    "\n",
    "print(\"Max bill: \", np.max(powerBillArr))           # Max\n",
    "print(\"Bill total: \", np.sum(powerBillArr))         # Summation\n",
    "print(\"Bill deviation: \", np.std(powerBillArr))     # Standard Deviation"
   ]
  },
  {
   "cell_type": "code",
   "execution_count": 80,
   "metadata": {},
   "outputs": [
    {
     "name": "stdout",
     "output_type": "stream",
     "text": [
      "All Months:\n",
      "April      | Amount of money left in budget: 20.79\n",
      "May        | Amount of money left in budget: 11.57\n",
      "June       | Amount of money left in budget: -3.58\n",
      "July       | Amount of money left in budget: -8.66\n",
      "August     | Amount of money left in budget: -7.38\n",
      "September  | Amount of money left in budget: 7.92\n",
      "October    | Amount of money left in budget: 16.63\n",
      "November   | Amount of money left in budget: -16.43\n",
      "December   | Amount of money left in budget: -13.43\n",
      "January    | Amount of money left in budget: -1.83\n",
      "Febuary    | Amount of money left in budget: 9.04\n",
      "March      | Amount of money left in budget: 3.29\n",
      "\n"
     ]
    }
   ],
   "source": [
    "# How far from the power budget was the bill\n",
    "\n",
    "budgArr = np.full((1,12), 90)\n",
    "distanceArr = budgArr - powerBillArr                            #Broadcasting\n",
    "output = 'All Months:\\n'\n",
    "for index in range(12):\n",
    "    output += f'{monthArr[index]} | Amount of money left in budget: {round((distanceArr[0][index]), 2)}\\n'\n",
    "print(output)"
   ]
  },
  {
   "cell_type": "code",
   "execution_count": 81,
   "metadata": {},
   "outputs": [
    {
     "name": "stdout",
     "output_type": "stream",
     "text": [
      "6 months are over budget\n"
     ]
    }
   ],
   "source": [
    "# Comparisons\n",
    "\n",
    "overArr = powerBillArr >= 90.00                                 #Comparison Operators and Boolean Arrays\n",
    "print(f\"{np.count_nonzero(overArr)} months are over budget\")\n"
   ]
  },
  {
   "cell_type": "code",
   "execution_count": 82,
   "metadata": {},
   "outputs": [
    {
     "name": "stdout",
     "output_type": "stream",
     "text": [
      "April     : 69.21\n",
      "October   : 73.37\n",
      "May       : 78.43\n",
      "Febuary   : 80.96\n",
      "September : 82.08\n",
      "March     : 86.71\n",
      "January   : 91.83\n",
      "June      : 93.58\n",
      "August    : 97.38\n",
      "July      : 98.66\n",
      "December  : 103.43\n",
      "November  : 106.43\n"
     ]
    }
   ],
   "source": [
    "# Sort values based on price\n",
    "\n",
    "sortOrder = np.argsort(powerBillArr)    # Sort\n",
    "for item in sortOrder:\n",
    "    print(f\"{monthArr[item]}: {powerBillArr[item]}\")\n",
    "\n"
   ]
  },
  {
   "cell_type": "code",
   "execution_count": 83,
   "metadata": {},
   "outputs": [
    {
     "name": "stdout",
     "output_type": "stream",
     "text": [
      "[[ 68.16  78.72  96.48 123.36 135.84 120.24  95.04  81.12 145.44 132.24\n",
      "  104.88  97.44]\n",
      " [ 68.16  78.72  96.48 123.36 135.84 120.24  95.04  81.12 145.44 132.24\n",
      "  104.88  97.44]\n",
      " [ 65.32  75.44  92.46 118.22 130.18 115.23  91.08  77.74 139.38 126.73\n",
      "  100.51  93.38]\n",
      " [ 53.96  62.32  76.38  97.66 107.54  95.19  75.24  64.22 115.14 104.69\n",
      "   83.03  77.14]\n",
      " [ 48.28  55.76  68.34  87.38  96.22  85.17  67.32  57.46 103.02  93.67\n",
      "   74.29  69.02]\n",
      " [ 45.44  52.48  64.32  82.24  90.56  80.16  63.36  54.08  96.96  88.16\n",
      "   69.92  64.96]\n",
      " [ 53.96  62.32  76.38  97.66 107.54  95.19  75.24  64.22 115.14 104.69\n",
      "   83.03  77.14]\n",
      " [ 88.04 101.68 124.62 159.34 175.46 155.31 122.76 104.78 187.86 170.81\n",
      "  135.47 125.86]\n",
      " [ 48.28  55.76  68.34  87.38  96.22  85.17  67.32  57.46 103.02  93.67\n",
      "   74.29  69.02]\n",
      " [ 48.28  55.76  68.34  87.38  96.22  85.17  67.32  57.46 103.02  93.67\n",
      "   74.29  69.02]\n",
      " [ 53.96  62.32  76.38  97.66 107.54  95.19  75.24  64.22 115.14 104.69\n",
      "   83.03  77.14]\n",
      " [ 59.64  68.88  84.42 107.94 118.86 105.21  83.16  70.98 127.26 115.71\n",
      "   91.77  85.26]]\n"
     ]
    }
   ],
   "source": [
    "#Create a 2d array to show how much each bill would be with each months price per kWh\n",
    "#Months are in order for the y axis and price per kWh is the x\n",
    "\n",
    "pricekWhArr = np.round(powerBillArr / powerUsageArr, 2).reshape(12,1)\n",
    "outArr = pricekWhArr * powerUsageArr\n",
    "print(outArr)"
   ]
  },
  {
   "cell_type": "code",
   "execution_count": 84,
   "metadata": {},
   "outputs": [
    {
     "name": "stdout",
     "output_type": "stream",
     "text": [
      "Spring Price Avg: 78.12\n",
      "Summer Price Avg: 96.54\n",
      "Fall Price Avg: 87.29\n",
      "Winter Price Avg: 92.07\n"
     ]
    }
   ],
   "source": [
    "# Display average price cost of power for each season\n",
    "\n",
    "springArr = np.array([11, 0, 1])\n",
    "summerArr = np.array([2, 3, 4])\n",
    "fallArr = np.array([5, 6, 7])\n",
    "winterArr = np.array([8, 9, 10])\n",
    "\n",
    "print(f\"Spring Price Avg: {round(np.mean(powerBillArr[springArr]), 2)}\")    # Fancy Indexing\n",
    "print(f\"Summer Price Avg: {round(np.mean(powerBillArr[summerArr]), 2)}\")\n",
    "print(f\"Fall Price Avg: {round(np.mean(powerBillArr[fallArr]), 2)}\")\n",
    "print(f\"Winter Price Avg: {round(np.mean(powerBillArr[winterArr]), 2)}\")\n"
   ]
  }
 ],
 "metadata": {
  "kernelspec": {
   "display_name": "Python 3",
   "language": "python",
   "name": "python3"
  },
  "language_info": {
   "codemirror_mode": {
    "name": "ipython",
    "version": 3
   },
   "file_extension": ".py",
   "mimetype": "text/x-python",
   "name": "python",
   "nbconvert_exporter": "python",
   "pygments_lexer": "ipython3",
   "version": "3.12.1"
  }
 },
 "nbformat": 4,
 "nbformat_minor": 2
}
